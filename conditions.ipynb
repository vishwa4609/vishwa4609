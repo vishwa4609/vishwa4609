{
 "cells": [
  {
   "cell_type": "code",
   "execution_count": 1,
   "id": "af2ce6b7",
   "metadata": {},
   "outputs": [
    {
     "name": "stdout",
     "output_type": "stream",
     "text": [
      "enter currency in usd:50\n",
      "the currency in inr is 2500.0\n"
     ]
    }
   ],
   "source": [
    "usd=float(input(\"enter currency in usd:\"))\n",
    "inr=usd * 50\n",
    "print(\"the currency in inr is\",round(inr,2))\n"
   ]
  },
  {
   "cell_type": "code",
   "execution_count": 5,
   "id": "a3bb3c6d",
   "metadata": {},
   "outputs": [
    {
     "name": "stdout",
     "output_type": "stream",
     "text": [
      "enter the dollar:50\n",
      "2500.0 rupees\n"
     ]
    }
   ],
   "source": [
    "dollars=float(input(\"enter the dollar:\"))\n",
    "rupees=dollars*50\n",
    "print(rupees,\"rupees\")"
   ]
  },
  {
   "cell_type": "code",
   "execution_count": 9,
   "id": "fb131ac2",
   "metadata": {},
   "outputs": [
    {
     "name": "stdout",
     "output_type": "stream",
     "text": [
      "enter the first number:10\n",
      "enter the second number:20\n",
      "enter the third number:30\n",
      "30 is the largest of three numbers.\n"
     ]
    }
   ],
   "source": [
    "a=int(input(\"enter the first number:\"))\n",
    "b=int(input(\"enter the second number:\"))\n",
    "c=int(input(\"enter the third number:\"))\n",
    "largest=0\n",
    "if a>b and a>c:\n",
    "    largest=a\n",
    "if b>a and b>c:\n",
    "    largest=b\n",
    "if c>a and c>b:\n",
    "    largest=c\n",
    "print(largest,\"is the largest of three numbers.\")"
   ]
  },
  {
   "cell_type": "code",
   "execution_count": 15,
   "id": "591ccfe6",
   "metadata": {},
   "outputs": [
    {
     "name": "stdout",
     "output_type": "stream",
     "text": [
      "30\n"
     ]
    }
   ],
   "source": [
    "def maximum(a,b,c):\n",
    "    if(a>=b) and (a>=c):\n",
    "        largest=a\n",
    "    elif(b>=a) and (b>=c):\n",
    "        largest=b\n",
    "    else:\n",
    "        largest=c\n",
    "    return largest\n",
    "a=10\n",
    "b=20\n",
    "c=30\n",
    "print(maximum(a,b,c))"
   ]
  },
  {
   "cell_type": "code",
   "execution_count": 17,
   "id": "cd5842f9",
   "metadata": {},
   "outputs": [
    {
     "name": "stdout",
     "output_type": "stream",
     "text": [
      "Leap Year\n"
     ]
    }
   ],
   "source": [
    "year = 2000\n",
    "if(((year % 4 == 0) and (year % 100 != 0)) or (year % 400==0)):\n",
    "    print(\"Leap Year\")\n",
    "else:\n",
    "    print(\"Not leap Year\")"
   ]
  },
  {
   "cell_type": "code",
   "execution_count": null,
   "id": "74911c0e",
   "metadata": {},
   "outputs": [],
   "source": [
    " "
   ]
  }
 ],
 "metadata": {
  "kernelspec": {
   "display_name": "Python 3 (ipykernel)",
   "language": "python",
   "name": "python3"
  },
  "language_info": {
   "codemirror_mode": {
    "name": "ipython",
    "version": 3
   },
   "file_extension": ".py",
   "mimetype": "text/x-python",
   "name": "python",
   "nbconvert_exporter": "python",
   "pygments_lexer": "ipython3",
   "version": "3.9.12"
  }
 },
 "nbformat": 4,
 "nbformat_minor": 5
}
